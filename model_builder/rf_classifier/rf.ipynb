{
 "cells": [
  {
   "cell_type": "code",
   "execution_count": 9,
   "metadata": {},
   "outputs": [],
   "source": [
    "# coding: utf-8\n",
    "import matplotlib.pyplot as plt\n",
    "import matplotlib.patches as mpatches\n",
    "%matplotlib inline \n",
    "import numpy as np\n",
    "import psycopg2\n",
    "import pandas as pd\n",
    "import jieba\n",
    "import jieba.analyse\n",
    "import jieba.posseg as pseg\n",
    "import re\n",
    "import random\n",
    "import pickle as pkl\n",
    "from sklearn.feature_extraction.text import  TfidfVectorizer\n",
    "from sklearn.ensemble import RandomForestClassifier\n",
    "from sklearn.decomposition import TruncatedSVD\n",
    "jieba.load_userdict(\"../dataset/dict.txt.big\") \n",
    "\n",
    "from quantify_judgement import getGuiltyNum"
   ]
  },
  {
   "cell_type": "code",
   "execution_count": 2,
   "metadata": {},
   "outputs": [],
   "source": [
    "def jieba_tokenize(text):\n",
    "    return  [t for t in jieba.lcut(text) if re.match(\"^[\\u4e00-\\u9fa5]\",t)] "
   ]
  },
  {
   "cell_type": "code",
   "execution_count": 3,
   "metadata": {},
   "outputs": [
    {
     "name": "stdout",
     "output_type": "stream",
     "text": [
      "Opened database successfully\n"
     ]
    }
   ],
   "source": [
    "tfidf_vectorizer = pkl.load(open(\"../dataset/tfidf_vectorizer.pkl\" ,'rb'))\n",
    "# ix2Squid = pkl.load(open(\"../dataset/ix2Squid.pkl\" ,'rb'))\n",
    "\n",
    "conn = psycopg2.connect(database=\"law1\", user=\"datac1\", password=\"datac15543\", host=\"ci.lu.im.ntu.edu.tw\", port=\"5432\")\n",
    "print(\"Opened database successfully\")\n",
    "cur = conn.cursor()"
   ]
  },
  {
   "cell_type": "code",
   "execution_count": 6,
   "metadata": {},
   "outputs": [
    {
     "name": "stdout",
     "output_type": "stream",
     "text": [
      "11950 302\n",
      "11949 597\n",
      "11948 657\n",
      "11947 701\n",
      "11946 823\n",
      "11945 828\n",
      "11944 828\n",
      "11943 1029\n",
      "11942 1163\n",
      "11941 1481\n"
     ]
    }
   ],
   "source": [
    "testReasonFact = []\n",
    "label = []\n",
    "for i in range(11950,11940,-1):\n",
    "    cur.execute(\"\"\"SELECT sqlid,main,reasonfact FROM jdata_features WHERE sqlid IN (SELECT sqlid FROM jdata_meta WHERE cat = 'M' and parser_done = 1 and sqlid >= %d and sqlid < %d) \"\"\" % ((i-1)*1000,i*1000))\n",
    "    rows = cur.fetchall()\n",
    "    for row in rows:\n",
    "        #print(row)\n",
    "        guiltyNum = getGuiltyNum(row[0],conn)\n",
    "        if not (np.isnan(guiltyNum)) :\n",
    "            testReasonFact.append(row[1])\n",
    "            label.append(int(guiltyNum))\n",
    "        #sqlidRsts.append([row[0],random.randint(0,1200)])\n",
    "    print(i,len(testReasonFact))"
   ]
  },
  {
   "cell_type": "code",
   "execution_count": 7,
   "metadata": {},
   "outputs": [
    {
     "name": "stdout",
     "output_type": "stream",
     "text": [
      "(1481, 7270830)\n"
     ]
    }
   ],
   "source": [
    "tfidf_test_matrix = tfidf_vectorizer.transform(testReasonFact)\n",
    "\n",
    "print(tfidf_test_matrix.shape)\n",
    "\n",
    "#print(sqlidRsts)"
   ]
  },
  {
   "cell_type": "code",
   "execution_count": 57,
   "metadata": {},
   "outputs": [],
   "source": [
    "clf = TruncatedSVD(n_components=150)\n",
    "\n",
    "#pca = PCA(n_components=2)\n",
    "lsa_matrix = clf.fit_transform(tfidf_test_matrix)\n",
    "\n",
    "#print(pca_matrix[:,0])"
   ]
  },
  {
   "cell_type": "code",
   "execution_count": 12,
   "metadata": {},
   "outputs": [
    {
     "name": "stdout",
     "output_type": "stream",
     "text": [
      "[  2.56550391e-01  -9.71061308e-02   9.56003707e-02  -1.42473483e-01\n",
      "   1.02396705e-01  -6.06848935e-02   3.30855740e-01   9.87520700e-02\n",
      "  -3.18890051e-01   8.42926647e-02   1.37724107e-01   4.74744949e-02\n",
      "  -2.97565239e-01   1.71557803e-01   1.92199432e-02  -9.10885722e-02\n",
      "  -1.65945384e-02   3.27687171e-02  -8.58823645e-02  -8.96757611e-02\n",
      "   1.36434936e-01  -2.38809502e-02  -1.70408128e-02   4.33725095e-02\n",
      "  -6.74596741e-02  -7.01528289e-05  -5.23051517e-02   2.55261748e-02\n",
      "   5.55240796e-02  -4.64488818e-03  -1.01626661e-01  -2.41283633e-02\n",
      "  -3.74460734e-02   1.95499375e-02   3.05331894e-02   2.68197389e-02\n",
      "   1.28101133e-02  -2.87788499e-02   1.25499259e-02  -5.53928288e-03\n",
      "  -1.75174321e-02  -2.01244222e-02   2.43486498e-02  -6.03392561e-02\n",
      "  -9.28925169e-03   3.98539551e-02   3.41220937e-02   6.00458484e-02\n",
      "  -1.64828686e-02   8.83023250e-03   1.59678637e-02   4.88390920e-03\n",
      "  -2.66017880e-03  -3.06179155e-03   1.80615875e-02  -6.94512712e-03\n",
      "   1.35047405e-02   1.63156929e-03  -2.93090631e-03   2.28295161e-02\n",
      "  -1.64447356e-02  -2.41400784e-02   8.71551450e-03   8.24958905e-03\n",
      "  -2.54344616e-02   1.09009651e-03  -1.93712382e-02  -3.14440328e-02\n",
      "  -6.32843092e-03  -2.87565600e-02   8.82837626e-03  -7.27302559e-03\n",
      "  -1.75239755e-02  -1.27876735e-02   2.44047109e-02  -1.37811143e-02\n",
      "  -1.91868104e-03  -1.74501224e-02  -1.15465694e-02   1.53664112e-02\n",
      "  -1.22029003e-02   1.21039833e-02  -1.44817697e-02   5.13680996e-03\n",
      "   1.00873440e-02  -1.01009969e-02   6.55996182e-03  -4.19776490e-03\n",
      "  -4.46911770e-03  -1.67181940e-02  -9.05103178e-03   1.20418844e-02\n",
      "  -3.52275933e-03   1.22693141e-02   3.60862604e-03  -4.49026418e-03\n",
      "   5.17737812e-03  -7.38371562e-03   1.74615319e-04  -1.95798860e-03]\n"
     ]
    }
   ],
   "source": [
    "print(lsa_matrix[0])"
   ]
  },
  {
   "cell_type": "code",
   "execution_count": 15,
   "metadata": {},
   "outputs": [],
   "source": [
    "def split_data(X,Y,split_ratio):\n",
    "    indices = np.arange(X.shape[0])  \n",
    "    np.random.shuffle(indices) \n",
    "    X = np.array(X)\n",
    "    Y = np.array(Y)\n",
    "\n",
    "    X_data = X[indices]\n",
    "    Y_data = Y[indices]\n",
    "\n",
    "    num_validation_sample = int(split_ratio * X_data.shape[0] )\n",
    "\n",
    "    X_train = X_data[num_validation_sample:]\n",
    "    Y_train = Y_data[num_validation_sample:]\n",
    "\n",
    "    X_val = X_data[:num_validation_sample]\n",
    "    Y_val = Y_data[:num_validation_sample]\n",
    "\n",
    "    return (X_train,Y_train),(X_val,Y_val)"
   ]
  },
  {
   "cell_type": "code",
   "execution_count": 16,
   "metadata": {},
   "outputs": [],
   "source": [
    "(X_train,Y_train),(X_val,Y_val) = split_data(lsa_matrix,label,0.2)"
   ]
  },
  {
   "cell_type": "code",
   "execution_count": 54,
   "metadata": {},
   "outputs": [
    {
     "name": "stdout",
     "output_type": "stream",
     "text": [
      "[ 0.01158512  0.03930435  0.01722949  0.01171481  0.0164589   0.01608477\n",
      "  0.01264286  0.01906149  0.03880261  0.03061503  0.02939208  0.05543054\n",
      "  0.01355092  0.02822788  0.03139955  0.03463236  0.03326799  0.0105767\n",
      "  0.01329896  0.01688349  0.01114432  0.01600236  0.01614369  0.01154288\n",
      "  0.00683996  0.00786782  0.0067794   0.01250553  0.00810622  0.0071101\n",
      "  0.00750367  0.00705169  0.00713422  0.00673237  0.00701278  0.00768039\n",
      "  0.00625187  0.00731801  0.0070732   0.00633422  0.00643684  0.00954531\n",
      "  0.00651777  0.0056395   0.00677042  0.00559434  0.00639974  0.00587687\n",
      "  0.00589906  0.00577425  0.00560952  0.0056051   0.00478006  0.0052889\n",
      "  0.0050777   0.0062676   0.00620703  0.00453973  0.0049676   0.0050184\n",
      "  0.00621599  0.00577487  0.0051954   0.00557126  0.00535315  0.00579752\n",
      "  0.00496058  0.00662115  0.0057934   0.00526402  0.00633675  0.00525575\n",
      "  0.00590011  0.00554658  0.00510218  0.00572187  0.00527392  0.00586826\n",
      "  0.00504674  0.0057485   0.00576271  0.00547441  0.00598194  0.00542125\n",
      "  0.00598363  0.00517723  0.00553767  0.00567511  0.00544257  0.00721699\n",
      "  0.00531023  0.00610233  0.00603269  0.00578407  0.00536679  0.00558077\n",
      "  0.00641726  0.00544999  0.00567117  0.00615289]\n"
     ]
    },
    {
     "name": "stderr",
     "output_type": "stream",
     "text": [
      "[Parallel(n_jobs=1)]: Done 450 out of 450 | elapsed:    7.9s finished\n"
     ]
    }
   ],
   "source": [
    "#sqlidRsts = [[t[0],t[1]] for t in rawData]\n",
    "#for k in range(3,13):\n",
    "#    print(\"k = %d\" % k)\n",
    "    \n",
    "#     fig = plt.figure()\n",
    "    \n",
    "#     title = \"Scatter for k=%d\" % k\n",
    "#     colors =  plt.cm.tab20( (20/k * np.arange(k)).astype(int) )\n",
    "    \n",
    "#     patch = []\n",
    "#     for z in range(0,k):\n",
    "#         patch.append(mpatches.Patch(color=colors[z], label = z))\n",
    "#     plt.legend(handles=patch)\n",
    "#     plt.title(title)\n",
    "\n",
    "rf = RandomForestClassifier(n_estimators = 450,verbose = 1)\n",
    "\n",
    "rf.fit(X_train,Y_train)\n",
    "\n",
    "print(rf.feature_importances_)\n",
    "    \n",
    "#    result = rf.fit_predict(tfidf_test_matrix)\n",
    "    \n",
    "#     plt.scatter(pca_matrix[:,0],pca_matrix[:,1],c=colors)\n",
    "#     #plt.show()\n",
    "#     fig.savefig(\"img/PCA_%d.png\" % k,bbox_inches='tight')\n",
    "\n",
    "#    for i in range(0,len(result)):\n",
    "#        sqlidRsts[i].append(result[i])"
   ]
  },
  {
   "cell_type": "code",
   "execution_count": 55,
   "metadata": {},
   "outputs": [],
   "source": [
    "def RMSE(pred,est):\n",
    "    se = 0.0\n",
    "    for i in range(0,len(pred)):\n",
    "        se = se + (pred[i]-est[i]) * (pred[i]-est[i])\n",
    "    return np.sqrt(se/len(pred))"
   ]
  },
  {
   "cell_type": "code",
   "execution_count": 56,
   "metadata": {},
   "outputs": [
    {
     "name": "stdout",
     "output_type": "stream",
     "text": [
      "38.4094670903\n"
     ]
    },
    {
     "name": "stderr",
     "output_type": "stream",
     "text": [
      "[Parallel(n_jobs=1)]: Done 450 out of 450 | elapsed:    0.1s finished\n"
     ]
    }
   ],
   "source": [
    "rst = rf.predict(X_val)\n",
    "print(RMSE(rst,Y_val))\n"
   ]
  },
  {
   "cell_type": "code",
   "execution_count": null,
   "metadata": {},
   "outputs": [],
   "source": []
  }
 ],
 "metadata": {
  "kernelspec": {
   "display_name": "Python 3",
   "language": "python",
   "name": "python3"
  },
  "language_info": {
   "codemirror_mode": {
    "name": "ipython",
    "version": 3
   },
   "file_extension": ".py",
   "mimetype": "text/x-python",
   "name": "python",
   "nbconvert_exporter": "python",
   "pygments_lexer": "ipython3",
   "version": "3.5.2"
  }
 },
 "nbformat": 4,
 "nbformat_minor": 2
}
